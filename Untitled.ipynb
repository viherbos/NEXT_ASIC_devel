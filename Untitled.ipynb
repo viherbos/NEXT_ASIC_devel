{
 "cells": [
  {
   "cell_type": "code",
   "execution_count": 2,
   "metadata": {},
   "outputs": [],
   "source": [
    "import numpy as np\n",
    "import matplotlib.pyplot as plt\n",
    "from typing import Sequence, Tuple\n",
    "from antea.elec import tof_functions as wvf \n",
    "from scipy import signal\n",
    "from scipy.optimize import leastsq\n",
    "from scipy.optimize import least_squares\n",
    "from proposals import SQRT_integrator as integrator\n",
    "from proposals import LOG_integrator\n",
    "from waveforms import wave_gen\n",
    "\n",
    "%matplotlib nbagg\n",
    "%reload_ext autoreload\n",
    "%autoreload 2"
   ]
  },
  {
   "cell_type": "code",
   "execution_count": null,
   "metadata": {},
   "outputs": [],
   "source": [
    "mosfet_params = {'KPP_2n':, 'W_L':,  'VTH':}\n",
    "caps          = {'cap0':,  'cap1':, 'cap2':}\n",
    "R =\n",
    "\n",
    "I1_lin_sqrt = integrator(KPP_2n = mosfet_params['KPP_2n'],\n",
    "                            W_L = mosfet_params['W_L'],\n",
    "                            VTH = mosfet_params['VTH'],\n",
    "                            time_unit = self.tu,\n",
    "                            cap = caps['cap0'],\n",
    "                            I_o = ,\n",
    "                            I_a =)\n",
    "\n",
    "I2_log = LOG_integrator(KPP_2n = mosfet_params['KPP_2n'],\n",
    "                                W_L = mosfet_params['W_L'],\n",
    "                                VTH = mosfet_params['VTH'],\n",
    "                                time_unit = self.tu,\n",
    "                                cap  = caps['cap1']\n",
    "                                cap2 = caps['cap2'],\n",
    "                                R    = R,\n",
    "                                Ibias1 =,\n",
    "                                Ibias2 =,\n",
    "                                Ibias3 =)\n"
   ]
  }
 ],
 "metadata": {
  "kernelspec": {
   "display_name": "Python 3",
   "language": "python",
   "name": "python3"
  },
  "language_info": {
   "codemirror_mode": {
    "name": "ipython",
    "version": 3
   },
   "file_extension": ".py",
   "mimetype": "text/x-python",
   "name": "python",
   "nbconvert_exporter": "python",
   "pygments_lexer": "ipython3",
   "version": "3.6.9"
  }
 },
 "nbformat": 4,
 "nbformat_minor": 4
}
